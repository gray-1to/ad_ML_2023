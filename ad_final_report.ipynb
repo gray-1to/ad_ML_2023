{
 "cells": [
  {
   "cell_type": "code",
   "execution_count": 16,
   "metadata": {},
   "outputs": [],
   "source": [
    "import numpy as np\n",
    "from numpy.linalg import norm\n",
    "from numpy import sqrt, log2, sum"
   ]
  },
  {
   "cell_type": "code",
   "execution_count": 3,
   "metadata": {},
   "outputs": [],
   "source": [
    "## ex1\n",
    "M = np.array([[1, 2, 3, 4, 5, 6, 7],\n",
    "              [4, 1, 3, 2, 5, 6, 7],\n",
    "              [2, 5, 1, 1, 3, 6, 9],\n",
    "              [2, 3, 4, 1, 1, 6, 8],\n",
    "              [3, 2, 1, 1, 4, 6, 7]])"
   ]
  },
  {
   "cell_type": "code",
   "execution_count": 14,
   "metadata": {},
   "outputs": [],
   "source": [
    "def cos_sim(a, b):\n",
    "    dot_a_b = a @ b\n",
    "    norm_a = norm(a)\n",
    "    norm_b = norm(b)\n",
    "    return dot_a_b / (norm_a*norm_b)"
   ]
  },
  {
   "cell_type": "code",
   "execution_count": 15,
   "metadata": {},
   "outputs": [
    {
     "data": {
      "text/plain": [
       "0.95"
      ]
     },
     "execution_count": 15,
     "metadata": {},
     "output_type": "execute_result"
    }
   ],
   "source": [
    "## 1-1\n",
    "cos_sim(M[0], M[1])"
   ]
  },
  {
   "cell_type": "code",
   "execution_count": null,
   "metadata": {},
   "outputs": [],
   "source": [
    "def PMI(x: int, c: int, M):\n",
    "    x_num = sum(M[x])\n",
    "    c_num = sum(M[:, c])\n",
    "    x_c_num = M[x, c]\n",
    "    num = sum(M)\n",
    "    return log2((x_c_num*num)/(x_num*c_num))"
   ]
  },
  {
   "cell_type": "code",
   "execution_count": 18,
   "metadata": {},
   "outputs": [
    {
     "name": "stdout",
     "output_type": "stream",
     "text": [
      "-0.29545588352617136\n",
      "0.910994993941255\n",
      "-1.2954558835261714\n",
      "-0.8804183842473275\n",
      "-0.29545588352617136\n",
      "-0.0324214776923775\n",
      "0.21150410519371182\n"
     ]
    }
   ],
   "source": [
    "## 1-2\n",
    "\n",
    "for j in range(len(M[0])):\n",
    "    print(PMI(2, j, M))"
   ]
  },
  {
   "cell_type": "code",
   "execution_count": 27,
   "metadata": {},
   "outputs": [
    {
     "data": {
      "text/plain": [
       "array([[0.        , 0.        , 0.2370392 , 1.0671142 , 0.38904229,\n",
       "        0.        , 0.        ],\n",
       "       [0.6520767 , 0.        , 0.2370392 , 0.0671142 , 0.38904229,\n",
       "        0.        , 0.        ],\n",
       "       [0.        , 0.91099499, 0.        , 0.        , 0.        ,\n",
       "        0.        , 0.21150411],\n",
       "       [0.        , 0.28506071, 0.81557543, 0.        , 0.        ,\n",
       "        0.07860983, 0.15261042],\n",
       "       [0.45943162, 0.        , 0.        , 0.        , 0.28950662,\n",
       "        0.13750352, 0.01885903]])"
      ]
     },
     "execution_count": 27,
     "metadata": {},
     "output_type": "execute_result"
    }
   ],
   "source": [
    "## 1-3\n",
    "P = np.array([[float(0) for i in range(len(M[0]))] for i in range(len(M))])\n",
    "for i in range(len(M)):\n",
    "    for j in range(len(M[0])):\n",
    "        pmi = PMI(i, j, M)\n",
    "        if pmi > 0:\n",
    "            P[i][j] = pmi\n",
    "        else:\n",
    "            P[i][j] = 0\n",
    "P"
   ]
  },
  {
   "cell_type": "code",
   "execution_count": 28,
   "metadata": {},
   "outputs": [
    {
     "data": {
      "text/plain": [
       "0.30139189091153046"
      ]
     },
     "execution_count": 28,
     "metadata": {},
     "output_type": "execute_result"
    }
   ],
   "source": [
    "cos_sim(P[0], P[1])"
   ]
  },
  {
   "cell_type": "code",
   "execution_count": 31,
   "metadata": {},
   "outputs": [
    {
     "name": "stdout",
     "output_type": "stream",
     "text": [
      "0 1 0.30139189091153046\n",
      "1 4 0.921292090269977\n"
     ]
    }
   ],
   "source": [
    "## 1-4\n",
    "max_cos_sim = 0\n",
    "for a in range(len(P)):\n",
    "    for b in range(a+1, len(P)):\n",
    "        pair_sim = cos_sim(P[a], P[b])\n",
    "        if pair_sim > max_cos_sim:\n",
    "            print(a, b, pair_sim)\n",
    "            max_cos_sim = pair_sim"
   ]
  },
  {
   "cell_type": "code",
   "execution_count": 32,
   "metadata": {},
   "outputs": [],
   "source": [
    "## ex2\n",
    "W = np.array([[3, 3, 2, 1, 2, 6],\n",
    "              [1, 7, 1, 5, 1, 1]])\n",
    "\n",
    "X = np.array([[6, 1, 3, 1, 1, 5],\n",
    "              [1, 1, 3, 2, 7, 1],\n",
    "              [1, 5, 2, 6, 1, 1]])"
   ]
  },
  {
   "cell_type": "code",
   "execution_count": 40,
   "metadata": {},
   "outputs": [
    {
     "data": {
      "text/plain": [
       "array([56, 25])"
      ]
     },
     "execution_count": 40,
     "metadata": {},
     "output_type": "execute_result"
    }
   ],
   "source": [
    "## 2-1\n",
    "W @ np.concatenate([X[:, 0], X[:, 1]])"
   ]
  },
  {
   "cell_type": "code",
   "execution_count": 41,
   "metadata": {},
   "outputs": [
    {
     "data": {
      "text/plain": [
       "array([56, 37, 63, 42, 39])"
      ]
     },
     "execution_count": 41,
     "metadata": {},
     "output_type": "execute_result"
    }
   ],
   "source": [
    "## 2-2\n",
    "Y_1 = np.array([0 for i in range(len(X[0]) - 1)])\n",
    "for i in range(len(X[0]) - 1):\n",
    "    Y_1[i] = (W @ np.concatenate([X[:, i], X[:, i+1]]))[0]\n",
    "Y_1"
   ]
  },
  {
   "cell_type": "code",
   "execution_count": 45,
   "metadata": {},
   "outputs": [
    {
     "data": {
      "text/plain": [
       "array([63, 78])"
      ]
     },
     "execution_count": 45,
     "metadata": {},
     "output_type": "execute_result"
    }
   ],
   "source": [
    "## 2-3\n",
    "# calc Y\n",
    "Y = np.array([[0 for i in range(len(X[0]) - 1)] for i in range(len(W))])\n",
    "for i in range(len(X[0]) - 1):\n",
    "    Y_i_j = W @ np.concatenate([X[:, i], X[:, i+1]])\n",
    "    Y[0][i] = Y_i_j[0]\n",
    "    Y[1][i] = Y_i_j[1]\n",
    "    \n",
    "# max pooling\n",
    "Y_max = np.array([0 for i in range(len(W))])\n",
    "for i in range(len(Y_max)):\n",
    "    Y_max[i] = np.max(Y[i])\n",
    "\n",
    "Y_max"
   ]
  },
  {
   "cell_type": "code",
   "execution_count": 56,
   "metadata": {},
   "outputs": [],
   "source": [
    "## ex3\n",
    "H = np.array([[1.0, 0.2, -0.8, 0.2],\n",
    "              [-0.2, 2.2, 1.2, 0.5]])\n",
    "\n",
    "z1 = np.array([[0.1],\n",
    "               [-0.2]])\n",
    "\n",
    "z2 = np.array([[-0.4],\n",
    "                [0.6]])"
   ]
  },
  {
   "cell_type": "code",
   "execution_count": 50,
   "metadata": {},
   "outputs": [],
   "source": [
    "def softmax(a: np.ndarray):\n",
    "    exp_a = np.exp(a)\n",
    "    sum_exp_a = np.sum(exp_a)\n",
    "    softmaxed_a = exp_a / sum_exp_a\n",
    "    return softmaxed_a"
   ]
  },
  {
   "cell_type": "code",
   "execution_count": 54,
   "metadata": {},
   "outputs": [
    {
     "data": {
      "text/plain": [
       "array([[0.25614499],\n",
       "       [0.73725499]])"
      ]
     },
     "execution_count": 54,
     "metadata": {},
     "output_type": "execute_result"
    }
   ],
   "source": [
    "H @ softmax(H.T @ z1)"
   ]
  },
  {
   "cell_type": "code",
   "execution_count": 58,
   "metadata": {},
   "outputs": [
    {
     "data": {
      "text/plain": [
       "array([[-0.08965867],\n",
       "       [ 1.41550016]])"
      ]
     },
     "execution_count": 58,
     "metadata": {},
     "output_type": "execute_result"
    }
   ],
   "source": [
    "H @ softmax(H.T @ z2)"
   ]
  }
 ],
 "metadata": {
  "kernelspec": {
   "display_name": ".venv",
   "language": "python",
   "name": "python3"
  },
  "language_info": {
   "codemirror_mode": {
    "name": "ipython",
    "version": 3
   },
   "file_extension": ".py",
   "mimetype": "text/x-python",
   "name": "python",
   "nbconvert_exporter": "python",
   "pygments_lexer": "ipython3",
   "version": "3.11.4"
  },
  "orig_nbformat": 4
 },
 "nbformat": 4,
 "nbformat_minor": 2
}
